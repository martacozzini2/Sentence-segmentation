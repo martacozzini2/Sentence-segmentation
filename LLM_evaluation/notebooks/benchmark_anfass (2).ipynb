{
  "nbformat": 4,
  "nbformat_minor": 0,
  "metadata": {
    "colab": {
      "provenance": []
    },
    "kernelspec": {
      "name": "python3",
      "display_name": "Python 3"
    },
    "language_info": {
      "name": "python"
    }
  },
  "cells": [
    {
      "cell_type": "code",
      "source": [
        "# This script takes a file where segments are marked with seg indicating where line breaks should be.\n",
        "# It reconstructs the sentences using these original line breaks from the corpus.\n",
        "# The output file serves as a benchmark to compare the model's segmentation with the original corpus segmentation.\n",
        "\n",
        "\n",
        "input_file = \"/content/corpus_in_frasi_anfass.txt\"\n",
        "\n",
        "output_file = \"/content/frasi_segmentate_per_evaluation.txt\"\n",
        "\n",
        "with open(input_file, \"r\", encoding=\"utf-8\") as f_in, open(output_file, \"w\", encoding=\"utf-8\") as f_out:\n",
        "    for line in f_in:\n",
        "        if not line.strip():\n",
        "            continue\n",
        "\n",
        "        parts = line.strip().split(\"\\t\", 1)\n",
        "        if len(parts) != 2:\n",
        "            continue\n",
        "\n",
        "        numero, testo = parts\n",
        "        segmenti = [seg.strip() for seg in testo.split(\"<seg>\") if seg.strip()]\n",
        "\n",
        "        if segmenti:\n",
        "            f_out.write(f\"{numero}\\t{segmenti[0]}\\n\")\n",
        "            for seg in segmenti[1:]:\n",
        "                f_out.write(f\"{seg}\\n\")\n",
        "\n",
        "\n",
        "from google.colab import files\n",
        "\n",
        "file_path= output_file\n",
        "\n",
        "files.download(file_path)"
      ],
      "metadata": {
        "colab": {
          "base_uri": "https://localhost:8080/",
          "height": 17
        },
        "id": "1NVJhsF5xPsS",
        "outputId": "cc2fe280-d1a6-4c57-91b8-bed27d8c2a05"
      },
      "execution_count": null,
      "outputs": [
        {
          "output_type": "display_data",
          "data": {
            "text/plain": [
              "<IPython.core.display.Javascript object>"
            ],
            "application/javascript": [
              "\n",
              "    async function download(id, filename, size) {\n",
              "      if (!google.colab.kernel.accessAllowed) {\n",
              "        return;\n",
              "      }\n",
              "      const div = document.createElement('div');\n",
              "      const label = document.createElement('label');\n",
              "      label.textContent = `Downloading \"${filename}\": `;\n",
              "      div.appendChild(label);\n",
              "      const progress = document.createElement('progress');\n",
              "      progress.max = size;\n",
              "      div.appendChild(progress);\n",
              "      document.body.appendChild(div);\n",
              "\n",
              "      const buffers = [];\n",
              "      let downloaded = 0;\n",
              "\n",
              "      const channel = await google.colab.kernel.comms.open(id);\n",
              "      // Send a message to notify the kernel that we're ready.\n",
              "      channel.send({})\n",
              "\n",
              "      for await (const message of channel.messages) {\n",
              "        // Send a message to notify the kernel that we're ready.\n",
              "        channel.send({})\n",
              "        if (message.buffers) {\n",
              "          for (const buffer of message.buffers) {\n",
              "            buffers.push(buffer);\n",
              "            downloaded += buffer.byteLength;\n",
              "            progress.value = downloaded;\n",
              "          }\n",
              "        }\n",
              "      }\n",
              "      const blob = new Blob(buffers, {type: 'application/binary'});\n",
              "      const a = document.createElement('a');\n",
              "      a.href = window.URL.createObjectURL(blob);\n",
              "      a.download = filename;\n",
              "      div.appendChild(a);\n",
              "      a.click();\n",
              "      div.remove();\n",
              "    }\n",
              "  "
            ]
          },
          "metadata": {}
        },
        {
          "output_type": "display_data",
          "data": {
            "text/plain": [
              "<IPython.core.display.Javascript object>"
            ],
            "application/javascript": [
              "download(\"download_07ead01d-7eaa-4c0c-952c-3044f0291091\", \"frasi_segmentate2.txt\", 30340)"
            ]
          },
          "metadata": {}
        }
      ]
    }
  ]
}